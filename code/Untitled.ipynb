{
 "cells": [
  {
   "cell_type": "code",
   "execution_count": 1,
   "metadata": {
    "collapsed": true
   },
   "outputs": [],
   "source": [
    "dct_file='2002FemPreg.dct'"
   ]
  },
  {
   "cell_type": "code",
   "execution_count": 2,
   "metadata": {
    "collapsed": true
   },
   "outputs": [],
   "source": [
    "dat_file='2002FemPreg.dat.gz'"
   ]
  },
  {
   "cell_type": "code",
   "execution_count": 4,
   "metadata": {},
   "outputs": [],
   "source": [
    "import thinkstats2\n",
    "dct = thinkstats2.ReadStataDct(dct_file)\n",
    "df = dct.ReadFixedWidth(dat_file, compression='gzip')"
   ]
  },
  {
   "cell_type": "code",
   "execution_count": 5,
   "metadata": {},
   "outputs": [
    {
     "data": {
      "text/plain": [
       "Index([u'caseid', u'pregordr', u'howpreg_n', u'howpreg_p', u'moscurrp',\n",
       "       u'nowprgdk', u'pregend1', u'pregend2', u'nbrnaliv', u'multbrth',\n",
       "       ...\n",
       "       u'poverty_i', u'laborfor_i', u'religion_i', u'metro_i', u'basewgt',\n",
       "       u'adj_mod_basewgt', u'finalwgt', u'secu_p', u'sest', u'cmintvw'],\n",
       "      dtype='object', length=243)"
      ]
     },
     "execution_count": 5,
     "metadata": {},
     "output_type": "execute_result"
    }
   ],
   "source": [
    "df.columns"
   ]
  },
  {
   "cell_type": "code",
   "execution_count": 8,
   "metadata": {},
   "outputs": [
    {
     "data": {
      "text/plain": [
       "0        1\n",
       "1        2\n",
       "2        1\n",
       "3        2\n",
       "4        3\n",
       "5        1\n",
       "6        2\n",
       "7        3\n",
       "8        1\n",
       "9        2\n",
       "10       1\n",
       "11       1\n",
       "12       2\n",
       "13       3\n",
       "14       1\n",
       "15       2\n",
       "16       3\n",
       "17       1\n",
       "18       2\n",
       "19       1\n",
       "20       2\n",
       "21       1\n",
       "22       2\n",
       "23       1\n",
       "24       2\n",
       "25       3\n",
       "26       1\n",
       "27       1\n",
       "28       2\n",
       "29       3\n",
       "        ..\n",
       "13563    2\n",
       "13564    3\n",
       "13565    1\n",
       "13566    1\n",
       "13567    1\n",
       "13568    2\n",
       "13569    1\n",
       "13570    2\n",
       "13571    3\n",
       "13572    4\n",
       "13573    1\n",
       "13574    2\n",
       "13575    1\n",
       "13576    1\n",
       "13577    2\n",
       "13578    1\n",
       "13579    2\n",
       "13580    1\n",
       "13581    2\n",
       "13582    3\n",
       "13583    1\n",
       "13584    2\n",
       "13585    1\n",
       "13586    2\n",
       "13587    3\n",
       "13588    1\n",
       "13589    2\n",
       "13590    3\n",
       "13591    4\n",
       "13592    5\n",
       "Name: pregordr, Length: 13593, dtype: int64"
      ]
     },
     "execution_count": 8,
     "metadata": {},
     "output_type": "execute_result"
    }
   ],
   "source": [
    "pregordr = df['pregordr']\n",
    "pregordr"
   ]
  },
  {
   "cell_type": "code",
   "execution_count": 9,
   "metadata": {},
   "outputs": [
    {
     "data": {
      "text/plain": [
       "1"
      ]
     },
     "execution_count": 9,
     "metadata": {},
     "output_type": "execute_result"
    }
   ],
   "source": [
    "pregordr[0]"
   ]
  },
  {
   "cell_type": "code",
   "execution_count": 10,
   "metadata": {},
   "outputs": [
    {
     "data": {
      "text/plain": [
       "2    1\n",
       "3    2\n",
       "4    3\n",
       "Name: pregordr, dtype: int64"
      ]
     },
     "execution_count": 10,
     "metadata": {},
     "output_type": "execute_result"
    }
   ],
   "source": [
    "pregordr[2:5]"
   ]
  },
  {
   "cell_type": "code",
   "execution_count": 11,
   "metadata": {
    "collapsed": true
   },
   "outputs": [],
   "source": [
    "import numpy as np"
   ]
  },
  {
   "cell_type": "code",
   "execution_count": 12,
   "metadata": {
    "collapsed": true
   },
   "outputs": [],
   "source": [
    "df['totalwgt_lb'] = df.birthwgt_lb + df.birthwgt_oz / 16.0"
   ]
  },
  {
   "cell_type": "code",
   "execution_count": 13,
   "metadata": {},
   "outputs": [
    {
     "data": {
      "text/plain": [
       "0        8.8125\n",
       "1        7.8750\n",
       "2        9.1250\n",
       "3        7.0000\n",
       "4        6.1875\n",
       "5        8.5625\n",
       "6        9.5625\n",
       "7        8.3750\n",
       "8        7.5625\n",
       "9        6.6250\n",
       "10       7.8125\n",
       "11       7.0000\n",
       "12       4.0000\n",
       "13          NaN\n",
       "14          NaN\n",
       "15       7.6875\n",
       "16       7.5000\n",
       "17       6.3125\n",
       "18          NaN\n",
       "19       8.7500\n",
       "20       8.1875\n",
       "21       5.5625\n",
       "22          NaN\n",
       "23       6.7500\n",
       "24       7.3750\n",
       "25       6.8125\n",
       "26       8.1250\n",
       "27       7.1250\n",
       "28       6.0625\n",
       "29       7.4375\n",
       "          ...  \n",
       "13563    7.6875\n",
       "13564    7.6250\n",
       "13565    8.1250\n",
       "13566    7.5000\n",
       "13567       NaN\n",
       "13568       NaN\n",
       "13569    5.8125\n",
       "13570    6.6875\n",
       "13571    6.0000\n",
       "13572    5.8125\n",
       "13573    6.5625\n",
       "13574    6.1250\n",
       "13575       NaN\n",
       "13576    6.4375\n",
       "13577       NaN\n",
       "13578    6.0000\n",
       "13579    7.0000\n",
       "13580       NaN\n",
       "13581    6.3750\n",
       "13582       NaN\n",
       "13583       NaN\n",
       "13584    6.3750\n",
       "13585       NaN\n",
       "13586       NaN\n",
       "13587       NaN\n",
       "13588    6.1875\n",
       "13589       NaN\n",
       "13590       NaN\n",
       "13591    7.5000\n",
       "13592    7.5000\n",
       "Name: totalwgt_lb, Length: 13593, dtype: float64"
      ]
     },
     "execution_count": 13,
     "metadata": {},
     "output_type": "execute_result"
    }
   ],
   "source": [
    "df.totalwgt_lb"
   ]
  },
  {
   "cell_type": "code",
   "execution_count": 14,
   "metadata": {},
   "outputs": [
    {
     "data": {
      "text/plain": [
       "1    9148\n",
       "2    1862\n",
       "3     120\n",
       "4    1921\n",
       "5     190\n",
       "6     352\n",
       "Name: outcome, dtype: int64"
      ]
     },
     "execution_count": 14,
     "metadata": {},
     "output_type": "execute_result"
    }
   ],
   "source": [
    "df.outcome.value_counts().sort_index()"
   ]
  },
  {
   "cell_type": "code",
   "execution_count": 15,
   "metadata": {},
   "outputs": [
    {
     "data": {
      "text/plain": [
       "8.0     1889\n",
       "7.0     3049\n",
       "6.0     2223\n",
       "4.0      229\n",
       "5.0      697\n",
       "10.0     132\n",
       "12.0      10\n",
       "14.0       3\n",
       "3.0       98\n",
       "1.0       40\n",
       "2.0       53\n",
       "0.0        8\n",
       "98.0       1\n",
       "51.0       1\n",
       "99.0      57\n",
       "9.0      623\n",
       "11.0      26\n",
       "13.0       3\n",
       "15.0       1\n",
       "97.0       1\n",
       "Name: birthwgt_lb, dtype: int64"
      ]
     },
     "execution_count": 15,
     "metadata": {},
     "output_type": "execute_result"
    }
   ],
   "source": [
    "df.birthwgt_lb.value_counts(sort=False)"
   ]
  },
  {
   "cell_type": "code",
   "execution_count": 17,
   "metadata": {},
   "outputs": [
    {
     "data": {
      "text/plain": [
       "<itertools.izip at 0x7f9a7c1bc5a8>"
      ]
     },
     "execution_count": 17,
     "metadata": {},
     "output_type": "execute_result"
    }
   ],
   "source": [
    "df.caseid.iteritems()"
   ]
  },
  {
   "cell_type": "code",
   "execution_count": 18,
   "metadata": {
    "collapsed": true
   },
   "outputs": [],
   "source": [
    "caseid=10229"
   ]
  },
  {
   "cell_type": "code",
   "execution_count": 24,
   "metadata": {},
   "outputs": [],
   "source": [
    "import nsfg\n",
    "preg_map = nsfg.MakePregMap(df)"
   ]
  },
  {
   "cell_type": "code",
   "execution_count": 25,
   "metadata": {},
   "outputs": [],
   "source": [
    "indices=preg_map[caseid]"
   ]
  },
  {
   "cell_type": "code",
   "execution_count": 26,
   "metadata": {},
   "outputs": [
    {
     "data": {
      "text/plain": [
       "array([4, 4, 4, 4, 4, 4, 1])"
      ]
     },
     "execution_count": 26,
     "metadata": {},
     "output_type": "execute_result"
    }
   ],
   "source": [
    "df.outcome[indices].values"
   ]
  },
  {
   "cell_type": "code",
   "execution_count": 27,
   "metadata": {},
   "outputs": [
    {
     "data": {
      "text/plain": [
       "[11093, 11094, 11095, 11096, 11097, 11098, 11099]"
      ]
     },
     "execution_count": 27,
     "metadata": {},
     "output_type": "execute_result"
    }
   ],
   "source": [
    "indices"
   ]
  },
  {
   "cell_type": "code",
   "execution_count": 28,
   "metadata": {},
   "outputs": [
    {
     "data": {
      "text/plain": [
       "11093    4\n",
       "11094    4\n",
       "11095    4\n",
       "11096    4\n",
       "11097    4\n",
       "11098    4\n",
       "11099    1\n",
       "Name: outcome, dtype: int64"
      ]
     },
     "execution_count": 28,
     "metadata": {},
     "output_type": "execute_result"
    }
   ],
   "source": [
    "df.outcome[indices]"
   ]
  },
  {
   "cell_type": "code",
   "execution_count": null,
   "metadata": {
    "collapsed": true
   },
   "outputs": [],
   "source": []
  }
 ],
 "metadata": {
  "kernelspec": {
   "display_name": "Python 2",
   "language": "python",
   "name": "python2"
  },
  "language_info": {
   "codemirror_mode": {
    "name": "ipython",
    "version": 2
   },
   "file_extension": ".py",
   "mimetype": "text/x-python",
   "name": "python",
   "nbconvert_exporter": "python",
   "pygments_lexer": "ipython2",
   "version": "2.7.13"
  }
 },
 "nbformat": 4,
 "nbformat_minor": 2
}
